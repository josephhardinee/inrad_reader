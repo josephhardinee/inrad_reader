{
 "cells": [
  {
   "cell_type": "code",
   "execution_count": 220,
   "metadata": {},
   "outputs": [],
   "source": [
    "%matplotlib inline\n",
    "import xarray as xr \n",
    "import pandas as pd\n",
    "import numpy as np\n",
    "import glob\n",
    "import pyart\n",
    "from datetime import datetime\n",
    "from datetime import timezone\n",
    "\n",
    "\n",
    "\n",
    "from operator import itemgetter\n",
    "from itertools import groupby\n",
    "\n",
    "test_file_path = '/Volumes/hard_lacie_hfs/data/indian_radar_data/'\n",
    "\n",
    "from inrad_reader import inrad_to_cf"
   ]
  },
  {
   "cell_type": "code",
   "execution_count": 31,
   "metadata": {},
   "outputs": [],
   "source": [
    "def get_sweep_num_from_filename(filename):\n",
    "    parts = filename.split('sweep')\n",
    "    return int(parts[1].split('.nc')[0])\n",
    "    \n",
    "def get_sorted_list(filename_list_glob):\n",
    "    pass\n",
    "    filename_list = glob.glob(test_file_path + 'T_HAHA00_C_DEMS_20180701080230*.nc')\n",
    "    filename_list.sort(key=get_sweep_num_from_filename)\n",
    "    return filename_list\n",
    "\n"
   ]
  },
  {
   "cell_type": "code",
   "execution_count": 85,
   "metadata": {},
   "outputs": [],
   "source": []
  },
  {
   "cell_type": "code",
   "execution_count": 217,
   "metadata": {},
   "outputs": [
    {
     "data": {
      "text/plain": [
       "<xarray.Dataset>\n",
       "Dimensions:           (bin: 831, radial: 3600, sweep: 10)\n",
       "Dimensions without coordinates: bin, radial, sweep\n",
       "Data variables:\n",
       "    siteLat           float32 28.58975\n",
       "    siteLon           float32 77.22195\n",
       "    siteAlt           float32 253.0\n",
       "    firstGateRange    float32 600.0\n",
       "    gateSize          float32 300.0\n",
       "    nyquist           float32 23.985\n",
       "    unambigRange      float32 249.82709\n",
       "    calibConst        float32 -39.5625\n",
       "    radarConst        float32 66.91\n",
       "    beamWidthHori     float32 0.95000005\n",
       "    pulseWidth        float32 1.0\n",
       "    bandWidth         float32 1180.0\n",
       "    filterDop         int16 2\n",
       "    elevationList     (sweep) float32 0.49987793 0.99975586 1.9995117 ...\n",
       "    azimuthSpeed      float32 10.178833\n",
       "    highPRF           float32 600.0\n",
       "    lowPRF            float32 450.0\n",
       "    dwellTime         float32 98.24309\n",
       "    waveLength        float32 5.33\n",
       "    calI0             float32 -109.57\n",
       "    calNoise          float32 -75.91\n",
       "    groundHeight      float32 217.0\n",
       "    meltHeight        float32 7000.0\n",
       "    scanType          int32 4\n",
       "    angleResolution   float32 1.0\n",
       "    logNoise          float32 0.36566162\n",
       "    linNoise          float32 0.36566162\n",
       "    inphaseOffset     float32 0.0\n",
       "    quadratureOffset  float32 0.0\n",
       "    logSlope          float32 0.6398926\n",
       "    logFilter         int32 0\n",
       "    filterPntClt      int32 2\n",
       "    filterThreshold   float32 6.0\n",
       "    sampleNum         int32 42\n",
       "    SQIThresh         float32 0.38671875\n",
       "    LOGThresh         float32 2.375\n",
       "    SIGThresh         float32 5.0\n",
       "    CSRThresh         float32 30.0\n",
       "    DBTThreshFlag     int32 1\n",
       "    DBZThreshFlag     int32 15\n",
       "    VELThreshFlag     int32 12\n",
       "    WIDThreshFlag     int32 13\n",
       "    beamWidthVert     float32 0.95000005\n",
       "    esStartTime       (radial) float64 1.53e+09 1.53e+09 1.53e+09 1.53e+09 ...\n",
       "    elevationNumber   (radial) int16 0 0 0 0 0 0 0 0 0 0 0 0 0 0 0 0 0 0 0 0 ...\n",
       "    elevationAngle    (radial) float32 0.49987793 0.49987793 0.49987793 ...\n",
       "    radialAzim        (radial) float32 dask.array<shape=(3600,), chunksize=(360,)>\n",
       "    radialElev        (radial) float32 dask.array<shape=(3600,), chunksize=(360,)>\n",
       "    radialTime        (radial) float64 dask.array<shape=(3600,), chunksize=(360,)>\n",
       "    T                 (radial, bin) float32 dask.array<shape=(3600, 831), chunksize=(360, 831)>\n",
       "    Z                 (radial, bin) float32 dask.array<shape=(3600, 831), chunksize=(360, 831)>\n",
       "    V                 (radial, bin) float32 dask.array<shape=(3600, 831), chunksize=(360, 831)>\n",
       "    W                 (radial, bin) float32 dask.array<shape=(3600, 831), chunksize=(360, 831)>\n",
       "    ZDR               (radial, bin) float32 dask.array<shape=(3600, 831), chunksize=(360, 831)>\n",
       "    KDP               (radial, bin) float32 dask.array<shape=(3600, 831), chunksize=(360, 831)>\n",
       "    PHIDP             (radial, bin) float32 dask.array<shape=(3600, 831), chunksize=(360, 831)>\n",
       "    SQI               (radial, bin) float32 dask.array<shape=(3600, 831), chunksize=(360, 831)>\n",
       "    RHOHV             (radial, bin) float32 dask.array<shape=(3600, 831), chunksize=(360, 831)>\n",
       "    HCLASS            (radial, bin) float32 dask.array<shape=(3600, 831), chunksize=(360, 831)>\n",
       "Attributes:\n",
       "    Content:      This file contains one scan of remotely sensed data\n",
       "    history:      Encoded into netcdf from IRIS data\n",
       "    title:        IRIS data\n",
       "    Conventions:  FSL netCDF"
      ]
     },
     "execution_count": 217,
     "metadata": {},
     "output_type": "execute_result"
    }
   ],
   "source": [
    "dset"
   ]
  },
  {
   "cell_type": "code",
   "execution_count": 202,
   "metadata": {},
   "outputs": [],
   "source": [
    "SCAN_TYPE_MAPPING ={\n",
    "    0: 'other',\n",
    "    1: 'sector',\n",
    "    2: 'rhi',\n",
    "    4: 'ppi',\n",
    "    7: 'rhi'\n",
    "}\n",
    "\n",
    "MOMENT_NAME_MAPPING ={ \n",
    "    'T': 'total_power',\n",
    "    'Z': 'reflectivity',\n",
    "    'V': 'mean_doppler_velocity',\n",
    "    'W': 'spectrum_width',\n",
    "    'ZDR' : 'differential_reflectivity',\n",
    "    'KDP' : \"specific_differential_phase\",\n",
    "    \"PHIDP\": \"differential_phase\",\n",
    "    \"SQI\": \"normalized_coherent_power\",\n",
    "    \"RHOHV\": \"copol_correlation_coeff\",\n",
    "    \"HCLASS\": \"hydrometeor_classification\"\n",
    "}\n"
   ]
  },
  {
   "cell_type": "code",
   "execution_count": 212,
   "metadata": {},
   "outputs": [],
   "source": [
    "_range =  {'data': np.arange(0, dset.dims['bin']) * dset['gateSize'].values + dset['firstGateRange'].values}\n",
    "fixed_angle = list(map(itemgetter(0), groupby(dset['elevationAngle'].values)))\n",
    "num_rays_per_sweep = [np.count_nonzero(np.isclose(dset['elevationAngle'].values, val)) for val in fixed_angle]\n",
    "sweep_start_ray_index = {'data': np.hstack((0, np.cumsum(num_rays_per_sweep)[0:-1]))}\n",
    "sweep_end_ray_index = {'data': ( np.cumsum(num_rays_per_sweep)-1)}\n",
    "time = {'data': dset['radialTime'],\n",
    "       'units': 'seconds since 1970-1-1 00:00:00.00'}\n",
    "fields = {}\n",
    "\n",
    "\n",
    "for moment_name in MOMENT_NAME_MAPPING:\n",
    "    fields[MOMENT_NAME_MAPPING[moment_name]] = {\n",
    "        'data': dset[moment_name].values,\n",
    "        'units': dset[moment_name].units,\n",
    "        'long_name': dset[moment_name].long_name\n",
    "    }\n",
    "sweep_mode = []\n",
    "for i in np.arange(dset.dims['sweep']):\n",
    "    sweep_mode.append('manual_'+SCAN_TYPE_MAPPING[int(dset['scanType'].values)])\n",
    "\n",
    "radar = pyart.core.Radar(time=time, _range=_range, azimuth={'data': dset['radialAzim'].values}, elevation={'data': dset['radialElev'].values},\n",
    "                         fixed_angle={'data': fixed_angle}, sweep_start_ray_index = sweep_start_ray_index, sweep_end_ray_index = sweep_end_ray_index,\n",
    "                        longitude={'data': dset['siteLon'].values}, latitude={'data': dset['siteLat'].values}, altitude={'data': dset['siteAlt'].values},\n",
    "                        scan_type=SCAN_TYPE_MAPPING[int(dset['scanType'].values)], sweep_number={'data': np.arange(0,dset.dims['sweep'])},\n",
    "                         fields=fields, metadata={}, sweep_mode=sweep_mode\n",
    "                        )"
   ]
  },
  {
   "cell_type": "code",
   "execution_count": 213,
   "metadata": {},
   "outputs": [],
   "source": [
    "display = pyart.graph.RadarDisplay(radar)"
   ]
  },
  {
   "cell_type": "code",
   "execution_count": 216,
   "metadata": {},
   "outputs": [
    {
     "data": {
      "image/png": "[encoded data removed]",
      "text/plain": [
       "<Figure size 432x288 with 2 Axes>"
      ]
     },
     "metadata": {},
     "output_type": "display_data"
    }
   ],
   "source": [
    "display.plot('differential_reflectivity',6)"
   ]
  },
  {
   "cell_type": "code",
   "execution_count": null,
   "metadata": {},
   "outputs": [],
   "source": []
  },
  {
   "cell_type": "code",
   "execution_count": 222,
   "metadata": {},
   "outputs": [],
   "source": [
    "radar = inrad_to_cf.read_multi_radar(test_file_path + 'T_HAHA00_C_DEMS_20180701080230*.nc')"
   ]
  },
  {
   "cell_type": "code",
   "execution_count": 224,
   "metadata": {},
   "outputs": [
    {
     "data": {
      "text/plain": [
       "dict_keys(['total_power', 'reflectivity', 'mean_doppler_velocity', 'spectrum_width', 'differential_reflectivity', 'specific_differential_phase', 'differential_phase', 'normalized_coherent_power', 'copol_correlation_coeff', 'hydrometeor_classification'])"
      ]
     },
     "execution_count": 224,
     "metadata": {},
     "output_type": "execute_result"
    }
   ],
   "source": [
    "radar.fields.keys()"
   ]
  },
  {
   "cell_type": "code",
   "execution_count": null,
   "metadata": {},
   "outputs": [],
   "source": []
  }
 ],
 "metadata": {
  "kernelspec": {
   "display_name": "Python [default]",
   "language": "python",
   "name": "python3"
  },
  "language_info": {
   "codemirror_mode": {
    "name": "ipython",
    "version": 3
   },
   "file_extension": ".py",
   "mimetype": "text/x-python",
   "name": "python",
   "nbconvert_exporter": "python",
   "pygments_lexer": "ipython3",
   "version": "3.6.5"
  }
 },
 "nbformat": 4,
 "nbformat_minor": 2
}
